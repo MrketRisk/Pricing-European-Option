{
 "cells": [
  {
   "cell_type": "markdown",
   "id": "fef60463",
   "metadata": {},
   "source": [
    "This is simple explanation for calculating the price of an European call option for a non dividend paying stock using both Black-Scholes Merton and Monte Carlo Simulation method. The payoff of the call option is 𝑪 = 𝐦𝐚𝐱{𝑺 − 𝑲, 𝟎} where 𝑺 is the stock price at the end of Time.\n",
    "\n",
    "Assuming continuous frequency (= daily simulation). Assuming the following model parameters: 𝑆0 = 100 , 𝑟 = 5%, 𝑇 = 1 𝑦𝑒𝑎𝑟, 𝐾 = 100, 𝜎 = 20%.\n",
    "Greeks are also computed using both Black-Scholes Merton and Monte Carlo Simulation method\n",
    "\n",
    "Theory for generating Monte Carlo Paths - Stock Prices are assumed to follow Geometric Brownian Motion (GBM). Research the Internet or John C Hull's book on Derivatives for more\n",
    "\n",
    "Theory for generating Black - Scholes Merton Price - It is a closed form solution. Research the Internet John C Hull's book on Derivatives for more"
   ]
  },
  {
   "cell_type": "code",
   "execution_count": 144,
   "id": "112d7300",
   "metadata": {},
   "outputs": [],
   "source": [
    "# Import Numpy, Pandas and norm from Scipy stats\n",
    "# One may also import seaborn if any charts are needed for graphical representation of the paths taken in Monte Carlo Simul\n",
    "import numpy as np\n",
    "import pandas as pd\n",
    "from scipy.stats import norm\n",
    "\n",
    "N_prime = norm.pdf\n",
    "N = norm.cdf"
   ]
  },
  {
   "cell_type": "code",
   "execution_count": 145,
   "id": "b708bf20",
   "metadata": {},
   "outputs": [],
   "source": [
    "# A Monte Carlo Simulation Function\n",
    "\n",
    "def MCS(S0=100, rf=0.05, T=1, K=100, vol=0.2, steps=252, sims=10000): \n",
    "    # Steps are equal to days in a time period to expiry. It can be smaller or larger as per user\n",
    "    # dt in this case is 1 day. This is the time interval for each steps in the simulation\n",
    "    dt = T/steps \n",
    "    # Creating a zero filled array of size = sims x steps + 1. This will be simulation of price paths taken\n",
    "    S = np.zeros((sims, steps + 1)) \n",
    "    # The first price for each path is S0\n",
    "    S[:,0] = S0\n",
    "    # All the steps for all the paths can now be filled using a 'for' loop implementing GBM\n",
    "    for i in range (steps):\n",
    "        # phi consists of an 1D array of standard normal random numbers of length sims\n",
    "        phi = np.random.randn(sims)\n",
    "        # using GBM formula, create path wise prices. phi is the proxy for Z\n",
    "        S[:, i+1] = S[:, i ] * np.exp((rf - 0.5 * vol * vol) * dt + vol * phi * np.sqrt(dt))\n",
    "    S = pd.DataFrame(S)\n",
    "    # Payoff is the average of (S - K)+\n",
    "    S['payoff'] = np.maximum(S[[steps]] - K,0)\n",
    "    payoff = S['payoff'].mean(axis = 0)\n",
    "    # Price of the Call Option is the expected discounted payoff\n",
    "    C_MCS = np.exp(-rf * T)*payoff    \n",
    "    return C_MCS       \n",
    "        "
   ]
  },
  {
   "cell_type": "code",
   "execution_count": 146,
   "id": "0c1077b8",
   "metadata": {},
   "outputs": [],
   "source": [
    "# A Black Scholes Pricing Function and Greeks\n",
    "\n",
    "def BSM(S0=100, rf=0.05, T=1, K=100, vol=0.2):\n",
    "    # Formula for d1\n",
    "    d1 = (np.log(S0/K) + (rf + 0.5 * vol * vol) * T)/(vol * np.sqrt(T))\n",
    "    # Formula for d2\n",
    "    d2 = d1 - vol * np.sqrt(T)\n",
    "    # Formula for European Call\n",
    "    price = S0 * N(d1) - K * np.exp(-rf * T) * N(d2)\n",
    "    # Formula for Delta\n",
    "    delta = N(d1)\n",
    "    # Formula for Gamma\n",
    "    gamma = N_prime(d1) / (S0 * vol * np.sqrt(T))\n",
    "    # Formula for vega\n",
    "    vega = N_prime(d1) * S0 * np.sqrt(T)\n",
    "    # Formula for rho\n",
    "    rho = K * T * np.exp(-rf * T) *N(d2)\n",
    "    # Formula for theta\n",
    "    theta = -S0 * N_prime(d1) * vol / (2 * np.sqrt(T)) - rf * K * np.exp(-rf * T) * N(d2)\n",
    "    return [price,delta,gamma,vega,rho,theta]"
   ]
  },
  {
   "cell_type": "code",
   "execution_count": 147,
   "id": "1678ce1f",
   "metadata": {},
   "outputs": [
    {
     "name": "stdout",
     "output_type": "stream",
     "text": [
      "MonteCarlo call price is  10.74\n",
      "BSM Vanilla call price is  10.45\n"
     ]
    }
   ],
   "source": [
    "# Function Calling\n",
    "\n",
    "# Parameters\n",
    "S0 = 100\n",
    "rf = 0.05\n",
    "T = 1\n",
    "K = 100\n",
    "vol = 0.20\n",
    "steps = 252\n",
    "sims = 10000\n",
    "\n",
    "np.random.seed(40) \n",
    "\n",
    "# output array of price S at time T loaded to a dataframe\n",
    "C_MCS = MCS(S0, rf, T, K, vol, steps, sims)\n",
    "\n",
    "print(\"MonteCarlo call price is \",np.round(C_MCS,2))\n",
    "\n",
    "# BSM output price\n",
    "BSM_Output = BSM(S0, rf, T, K, vol)\n",
    "print(\"BSM Vanilla call price is \",np.round(BSM_Output[0],2))\n"
   ]
  },
  {
   "cell_type": "code",
   "execution_count": 148,
   "id": "8f2cd967",
   "metadata": {},
   "outputs": [
    {
     "name": "stdout",
     "output_type": "stream",
     "text": [
      "The MCS Delta is  0.6259\n",
      "The BSM Delta is  0.6368\n"
     ]
    }
   ],
   "source": [
    "# Greeks\n",
    "# Delta\n",
    "\n",
    "# Monte Carlo\n",
    "# Checking for 1 dollar change in price\n",
    "DelS = 1\n",
    "\n",
    "np.random.seed(42) \n",
    "# Call price by increasing the asset price by DelS\n",
    "C_MCS_Up = MCS(S0+DelS, rf, T, K, vol, steps, sims)\n",
    "# Call price by decreasing the asset price by DelS\n",
    "C_MCS_Down = MCS(S0-DelS, rf, T, K, vol, steps, sims)\n",
    "# Center Delta computation\n",
    "Delta = (C_MCS_Up - C_MCS_Down)/2\n",
    "print(\"The MCS Delta is \" , np.round(Delta,4))\n",
    "# BSM Delta\n",
    "print(\"The BSM Delta is \",np.round(BSM_Output[1],4))"
   ]
  },
  {
   "cell_type": "code",
   "execution_count": 149,
   "id": "85b367bb",
   "metadata": {},
   "outputs": [
    {
     "name": "stdout",
     "output_type": "stream",
     "text": [
      "The MCS Gamma is  0.0196\n",
      "The BSM Gamma is  0.0188\n"
     ]
    }
   ],
   "source": [
    "# Greeks\n",
    "# Gamma\n",
    "\n",
    "# Monte Carlo\n",
    "DelS = 2\n",
    "\n",
    "np.random.seed(42) \n",
    "# Call price by increasing the asset price by DelS\n",
    "C_MCS_Up = MCS(S0+DelS, rf, T, K, vol, steps, sims)\n",
    "# Call price by decreasing the asset price by DelS\n",
    "C_MCS_Down = MCS(S0-DelS, rf, T, K, vol, steps, sims)\n",
    "# Center change in call price computation\n",
    "DelC = (C_MCS_Up - C_MCS_Down)/2\n",
    "# Center Gamma computation\n",
    "Gamma = ((DelC - Delta * DelS)*2)\n",
    "print(\"The MCS Gamma is \" , np.round(Gamma,4))\n",
    "# BSM Gamma\n",
    "print(\"The BSM Gamma is \",np.round(BSM_Output[2],4))"
   ]
  },
  {
   "cell_type": "code",
   "execution_count": 150,
   "id": "0bc70c08",
   "metadata": {},
   "outputs": [
    {
     "name": "stdout",
     "output_type": "stream",
     "text": [
      "The MCS Vega is  33.7715\n",
      "The BSM Vega is  37.524\n"
     ]
    }
   ],
   "source": [
    "# Greeks\n",
    "# Vega\n",
    "\n",
    "# Monte Carlo\n",
    "# Checking for 100% change in vol\n",
    "DelVol = 1\n",
    "\n",
    "np.random.seed(42) \n",
    "\n",
    "# Call price by increasing the vol by DelVol\n",
    "C_MCS_Up = MCS(S0, rf, T, K, vol+DelVol, steps, sims)\n",
    "# Vega computation\n",
    "Vega = (C_MCS_Up - C_MCS)\n",
    "print(\"The MCS Vega is \" , np.round(Vega,4))\n",
    "# BSM Vega\n",
    "print(\"The BSM Vega is \",np.round(BSM_Output[3],4))"
   ]
  },
  {
   "cell_type": "code",
   "execution_count": 151,
   "id": "48d3a07f",
   "metadata": {},
   "outputs": [
    {
     "name": "stdout",
     "output_type": "stream",
     "text": [
      "The MCS Rho is  32.4246\n",
      "The BSM Rho is  53.2325\n"
     ]
    }
   ],
   "source": [
    "# Greeks\n",
    "# Rho\n",
    "\n",
    "# Monte Carlo\n",
    "# Checking for 1% change in rf\n",
    "Delrf = 1\n",
    "\n",
    "np.random.seed(42) \n",
    "# Call price by increasing the rf by Delrf\n",
    "C_MCS_Up = MCS(S0, rf+Delrf, T, K, vol, steps, sims)\n",
    "# Call price by decreasing the rf by Delrf\n",
    "C_MCS_Down = MCS(S0-DelS, rf-Delrf, T, K, vol, steps, sims)\n",
    "# Center Rho computation\n",
    "Rho = (C_MCS_Up - C_MCS_Down)/2\n",
    "print(\"The MCS Rho is \" , np.round(Rho,4))\n",
    "# BSM Rho\n",
    "print(\"The BSM Rho is \",np.round(BSM_Output[4],4))"
   ]
  },
  {
   "cell_type": "code",
   "execution_count": 153,
   "id": "c959cd5c",
   "metadata": {},
   "outputs": [
    {
     "name": "stdout",
     "output_type": "stream",
     "text": [
      "The MCS Theta is  -5.2213\n",
      "The BSM Theta is  -6.414\n"
     ]
    }
   ],
   "source": [
    "# Greeks\n",
    "# Theta\n",
    "\n",
    "# Monte Carlo\n",
    "# Checking for 1 year change in T\n",
    "DelT = 1\n",
    "\n",
    "np.random.seed(42) \n",
    "# Call price by increasing the T by DelT\n",
    "C_MCS_Up = MCS(S0, rf, T+DelT, K, vol, steps, sims)\n",
    "# Theta computation\n",
    "Theta = (C_MCS_Up - C_MCS) * -1\n",
    "print(\"The MCS Theta is \" , np.round(Theta,4))\n",
    "# BSM Theta\n",
    "print(\"The BSM Theta is \",np.round(BSM_Output[5],4))"
   ]
  }
 ],
 "metadata": {
  "kernelspec": {
   "display_name": "Python 3 (ipykernel)",
   "language": "python",
   "name": "python3"
  },
  "language_info": {
   "codemirror_mode": {
    "name": "ipython",
    "version": 3
   },
   "file_extension": ".py",
   "mimetype": "text/x-python",
   "name": "python",
   "nbconvert_exporter": "python",
   "pygments_lexer": "ipython3",
   "version": "3.10.9"
  }
 },
 "nbformat": 4,
 "nbformat_minor": 5
}
